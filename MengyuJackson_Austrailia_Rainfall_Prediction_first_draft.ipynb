{
 "cells": [
  {
   "cell_type": "markdown",
   "metadata": {},
   "source": [
    "# Project 3: Austrailia Rainfall Prediction\n",
    "\n",
    "Mengyu Jackson"
   ]
  },
  {
   "cell_type": "markdown",
   "metadata": {},
   "source": [
    "## Overview\n",
    "\n",
    "Australia has a variety of weather stations across the country, which collect data used for rainfall forecasting.\n",
    "Although basic metrics are recorded at all stations (Max Temperature, Minimum Temperature, Rainfall), other metrics are intermittently or never recorded at certain stations (such as amount of Sunshine, cloudiness, Evaporation, Pressure, etc.)\n",
    "\n",
    "The Australian government wants to determine whether additional investment in recording these metrics will improve rainfall forecasting in these areas.\n",
    "\n",
    "Our models (which match state of the art accuracy) are able to predict rainfall at stations which do not collect all metrics as well as stations which do record all metrics.\n",
    "\n",
    "Spending more money to collect these metrics will not improve rainfall forecasting."
   ]
  },
  {
   "cell_type": "markdown",
   "metadata": {},
   "source": [
    "## Business Problem\n",
    "\n",
    "Australia has a variety of weather stations across the country, which collect data used for rainfall forecasting.\n",
    "Although basic metrics are recorded at all stations (Max Temperature, Minimum Temperature, Rainfall), other metrics are intermittently or never recorded at certain stations (such as amount of Sunshine, cloudiness, Evaporation, Pressure, etc.)\n",
    "\n",
    "The Australian government wants to determine whether additional investment in recording these metrics will improve rainfall forecasting in these areas.\n",
    "\n",
    "Rainfall forecasting is used for a variety of purposes by the public, and different uses are sensitive to different types of errors (false positive vs false negative) in forecasting. We need to evaluate model performance with and without all features on multiple types of errors.\n",
    "\n",
    "If additional data is recommended, which data is most important?\n",
    "\n"
   ]
  },
  {
   "cell_type": "markdown",
   "metadata": {},
   "source": [
    "## Data Understanding\n"
   ]
  },
  {
   "cell_type": "code",
   "execution_count": 1,
   "metadata": {},
   "outputs": [],
   "source": [
    "!pip install --quiet --upgrade --user --upgrade-strategy=eager sktime"
   ]
  },
  {
   "cell_type": "code",
   "execution_count": 2,
   "metadata": {},
   "outputs": [],
   "source": [
    "import pprint\n",
    "import time\n",
    "\n",
    "import numpy as np\n",
    "import pandas as pd\n",
    "from code.data_preparation import fit_predict, preprocess_data, preprocess_non_time_series, preprocess_time_series\n",
    "from code.visualization import get_all_displays\n",
    "\n",
    "from sklearn.compose import make_column_transformer, make_column_selector\n",
    "from sklearn.ensemble import AdaBoostClassifier\n",
    "from sklearn.impute import KNNImputer, SimpleImputer\n",
    "from sklearn.linear_model import RidgeClassifierCV\n",
    "from sklearn.metrics import ConfusionMatrixDisplay\n",
    "from sklearn.metrics import PrecisionRecallDisplay, RocCurveDisplay\n",
    "from sklearn.metrics import confusion_matrix, classification_report\n",
    "from sklearn.pipeline import make_pipeline\n",
    "from sklearn.preprocessing import OneHotEncoder, FunctionTransformer, MinMaxScaler\n",
    "from sklearn.svm import LinearSVC\n",
    "from sklearn.tree import DecisionTreeClassifier\n",
    "from sktime.forecasting.model_selection import temporal_train_test_split\n",
    "from sktime.transformations.panel.rocket import MiniRocket\n",
    "from sktime.utils.data_processing import from_2d_array_to_nested\n",
    "\n",
    "RANDOM_SEED = 0"
   ]
  },
  {
   "cell_type": "code",
   "execution_count": 3,
   "metadata": {},
   "outputs": [],
   "source": [
    "weatherAUS = pd.read_csv('./data/weatherAUS.csv')"
   ]
  },
  {
   "cell_type": "code",
   "execution_count": 5,
   "metadata": {},
   "outputs": [
    {
     "name": "stderr",
     "output_type": "stream",
     "text": [
      "C:\\Users\\steve\\Documents\\Flatiron\\project_3\\code\\data_preparation.py:19: SettingWithCopyWarning: \n",
      "A value is trying to be set on a copy of a slice from a DataFrame.\n",
      "Try using .loc[row_indexer,col_indexer] = value instead\n",
      "\n",
      "See the caveats in the documentation: https://pandas.pydata.org/pandas-docs/stable/user_guide/indexing.html#returning-a-view-versus-a-copy\n",
      "  df[\"RainToday\"] = df[\"RainToday\"].replace(\"No\", 0).replace(\"Yes\", 1).astype(float)\n",
      "C:\\Users\\steve\\Documents\\Flatiron\\project_3\\code\\data_preparation.py:20: SettingWithCopyWarning: \n",
      "A value is trying to be set on a copy of a slice from a DataFrame.\n",
      "Try using .loc[row_indexer,col_indexer] = value instead\n",
      "\n",
      "See the caveats in the documentation: https://pandas.pydata.org/pandas-docs/stable/user_guide/indexing.html#returning-a-view-versus-a-copy\n",
      "  df[\"RainTomorrow\"] = (\n",
      "C:\\Users\\steve\\Documents\\Flatiron\\project_3\\code\\data_preparation.py:23: SettingWithCopyWarning: \n",
      "A value is trying to be set on a copy of a slice from a DataFrame.\n",
      "Try using .loc[row_indexer,col_indexer] = value instead\n",
      "\n",
      "See the caveats in the documentation: https://pandas.pydata.org/pandas-docs/stable/user_guide/indexing.html#returning-a-view-versus-a-copy\n",
      "  df[\"WindGustDir\"] = df[\"WindGustDir\"].fillna(\"NaN\")\n",
      "C:\\Users\\steve\\Documents\\Flatiron\\project_3\\code\\data_preparation.py:24: SettingWithCopyWarning: \n",
      "A value is trying to be set on a copy of a slice from a DataFrame.\n",
      "Try using .loc[row_indexer,col_indexer] = value instead\n",
      "\n",
      "See the caveats in the documentation: https://pandas.pydata.org/pandas-docs/stable/user_guide/indexing.html#returning-a-view-versus-a-copy\n",
      "  df[\"WindDir9am\"] = df[\"WindDir9am\"].fillna(\"NaN\")\n",
      "C:\\Users\\steve\\Documents\\Flatiron\\project_3\\code\\data_preparation.py:25: SettingWithCopyWarning: \n",
      "A value is trying to be set on a copy of a slice from a DataFrame.\n",
      "Try using .loc[row_indexer,col_indexer] = value instead\n",
      "\n",
      "See the caveats in the documentation: https://pandas.pydata.org/pandas-docs/stable/user_guide/indexing.html#returning-a-view-versus-a-copy\n",
      "  df[\"WindDir3pm\"] = df[\"WindDir3pm\"].fillna(\"NaN\")\n",
      "C:\\Users\\steve\\Documents\\Flatiron\\project_3\\code\\data_preparation.py:27: SettingWithCopyWarning: \n",
      "A value is trying to be set on a copy of a slice from a DataFrame.\n",
      "Try using .loc[row_indexer,col_indexer] = value instead\n",
      "\n",
      "See the caveats in the documentation: https://pandas.pydata.org/pandas-docs/stable/user_guide/indexing.html#returning-a-view-versus-a-copy\n",
      "  df[\"Date\"] = pd.to_datetime(df[\"Date\"])\n",
      "C:\\Users\\steve\\Documents\\Flatiron\\project_3\\code\\data_preparation.py:81: SettingWithCopyWarning: \n",
      "A value is trying to be set on a copy of a slice from a DataFrame.\n",
      "Try using .loc[row_indexer,col_indexer] = value instead\n",
      "\n",
      "See the caveats in the documentation: https://pandas.pydata.org/pandas-docs/stable/user_guide/indexing.html#returning-a-view-versus-a-copy\n",
      "  df[key] = df[\"Location\"].map(lambda loc: latitude_longitude[loc][key])\n"
     ]
    }
   ],
   "source": [
    "data_full = preprocess_data(weatherAUS.copy())\n",
    "\n",
    "# Some extra pre-processing for methods which do not natively understand time series\n",
    "data_full_trad = preprocess_non_time_series(data_full.copy())"
   ]
  },
  {
   "cell_type": "code",
   "execution_count": 7,
   "metadata": {
    "scrolled": false
   },
   "outputs": [
    {
     "name": "stdout",
     "output_type": "stream",
     "text": [
      "Albury: ['Evaporation', 'Sunshine']\n",
      "BadgerysCreek: ['Evaporation', 'Sunshine', 'Cloud9am', 'Cloud3pm']\n",
      "Cobar: []\n",
      "CoffsHarbour: []\n",
      "Moree: []\n",
      "Newcastle: ['Evaporation', 'Sunshine', 'WindGustSpeed', 'Pressure9am', 'Pressure3pm']\n",
      "NorahHead: ['Evaporation', 'Sunshine', 'Cloud9am', 'Cloud3pm']\n",
      "NorfolkIsland: []\n",
      "Penrith: ['Evaporation', 'Sunshine', 'Pressure9am', 'Pressure3pm', 'Cloud9am', 'Cloud3pm']\n",
      "Richmond: ['Sunshine']\n",
      "Sydney: []\n",
      "SydneyAirport: []\n",
      "WaggaWagga: []\n",
      "Williamtown: []\n",
      "Wollongong: ['Evaporation', 'Sunshine']\n",
      "Canberra: []\n",
      "Tuggeranong: ['Evaporation', 'Sunshine', 'Cloud9am', 'Cloud3pm']\n",
      "MountGinini: ['Evaporation', 'Sunshine', 'Pressure9am', 'Pressure3pm', 'Cloud9am', 'Cloud3pm']\n",
      "Ballarat: ['Evaporation', 'Sunshine']\n",
      "Bendigo: ['Sunshine']\n",
      "Sale: []\n",
      "MelbourneAirport: []\n",
      "Melbourne: []\n",
      "Mildura: []\n",
      "Nhil: ['Evaporation', 'Sunshine', 'Cloud9am', 'Cloud3pm']\n",
      "Portland: []\n",
      "Watsonia: []\n",
      "Dartmoor: ['Cloud9am', 'Cloud3pm']\n",
      "Brisbane: []\n",
      "Cairns: []\n",
      "GoldCoast: ['Evaporation', 'Sunshine', 'Cloud9am', 'Cloud3pm']\n",
      "Townsville: []\n",
      "Adelaide: ['Cloud9am', 'Cloud3pm']\n",
      "MountGambier: []\n",
      "Nuriootpa: []\n",
      "Woomera: []\n",
      "Albany: ['WindGustSpeed']\n",
      "Witchcliffe: ['Evaporation', 'Sunshine', 'Cloud9am', 'Cloud3pm']\n",
      "PearceRAAF: ['Evaporation']\n",
      "PerthAirport: []\n",
      "Perth: []\n",
      "SalmonGums: ['Evaporation', 'Sunshine', 'Pressure9am', 'Pressure3pm', 'Cloud9am', 'Cloud3pm']\n",
      "Walpole: ['Evaporation', 'Sunshine', 'Cloud9am', 'Cloud3pm']\n",
      "Hobart: []\n",
      "Launceston: ['Sunshine']\n",
      "AliceSprings: []\n",
      "Darwin: []\n",
      "Katherine: ['Sunshine']\n",
      "Uluru: ['Evaporation', 'Sunshine']\n",
      "Columns which are fully NaN for at least one Location: ['Cloud3pm', 'Cloud9am', 'Evaporation', 'Pressure3pm', 'Pressure9am', 'Sunshine', 'WindGustSpeed']\n",
      "{'Adelaide': ['Cloud9am', 'Cloud3pm'],\n",
      " 'Albany': ['WindGustSpeed'],\n",
      " 'Albury': ['Evaporation', 'Sunshine'],\n",
      " 'AliceSprings': [],\n",
      " 'BadgerysCreek': ['Evaporation', 'Sunshine', 'Cloud9am', 'Cloud3pm'],\n",
      " 'Ballarat': ['Evaporation', 'Sunshine'],\n",
      " 'Bendigo': ['Sunshine'],\n",
      " 'Brisbane': [],\n",
      " 'Cairns': [],\n",
      " 'Canberra': [],\n",
      " 'Cobar': [],\n",
      " 'CoffsHarbour': [],\n",
      " 'Dartmoor': ['Cloud9am', 'Cloud3pm'],\n",
      " 'Darwin': [],\n",
      " 'GoldCoast': ['Evaporation', 'Sunshine', 'Cloud9am', 'Cloud3pm'],\n",
      " 'Hobart': [],\n",
      " 'Katherine': ['Sunshine'],\n",
      " 'Launceston': ['Sunshine'],\n",
      " 'Melbourne': [],\n",
      " 'MelbourneAirport': [],\n",
      " 'Mildura': [],\n",
      " 'Moree': [],\n",
      " 'MountGambier': [],\n",
      " 'MountGinini': ['Evaporation',\n",
      "                 'Sunshine',\n",
      "                 'Pressure9am',\n",
      "                 'Pressure3pm',\n",
      "                 'Cloud9am',\n",
      "                 'Cloud3pm'],\n",
      " 'Newcastle': ['Evaporation',\n",
      "               'Sunshine',\n",
      "               'WindGustSpeed',\n",
      "               'Pressure9am',\n",
      "               'Pressure3pm'],\n",
      " 'Nhil': ['Evaporation', 'Sunshine', 'Cloud9am', 'Cloud3pm'],\n",
      " 'NorahHead': ['Evaporation', 'Sunshine', 'Cloud9am', 'Cloud3pm'],\n",
      " 'NorfolkIsland': [],\n",
      " 'Nuriootpa': [],\n",
      " 'PearceRAAF': ['Evaporation'],\n",
      " 'Penrith': ['Evaporation',\n",
      "             'Sunshine',\n",
      "             'Pressure9am',\n",
      "             'Pressure3pm',\n",
      "             'Cloud9am',\n",
      "             'Cloud3pm'],\n",
      " 'Perth': [],\n",
      " 'PerthAirport': [],\n",
      " 'Portland': [],\n",
      " 'Richmond': ['Sunshine'],\n",
      " 'Sale': [],\n",
      " 'SalmonGums': ['Evaporation',\n",
      "                'Sunshine',\n",
      "                'Pressure9am',\n",
      "                'Pressure3pm',\n",
      "                'Cloud9am',\n",
      "                'Cloud3pm'],\n",
      " 'Sydney': [],\n",
      " 'SydneyAirport': [],\n",
      " 'Townsville': [],\n",
      " 'Tuggeranong': ['Evaporation', 'Sunshine', 'Cloud9am', 'Cloud3pm'],\n",
      " 'Uluru': ['Evaporation', 'Sunshine'],\n",
      " 'WaggaWagga': [],\n",
      " 'Walpole': ['Evaporation', 'Sunshine', 'Cloud9am', 'Cloud3pm'],\n",
      " 'Watsonia': [],\n",
      " 'Williamtown': [],\n",
      " 'Witchcliffe': ['Evaporation', 'Sunshine', 'Cloud9am', 'Cloud3pm'],\n",
      " 'Wollongong': ['Evaporation', 'Sunshine'],\n",
      " 'Woomera': []}\n"
     ]
    }
   ],
   "source": [
    "# Used for Time Series prediction\n",
    "\n",
    "data_by_location = {\n",
    "    loc: preprocess_time_series(data_full[data_full[\"Location\"]==loc].copy())\n",
    "    for loc in data_full[\"Location\"].unique()\n",
    "}\n",
    "\n",
    "na_columns_by_loc = {}\n",
    "for loc, df in data_by_location.items():\n",
    "    na_columns_by_loc[loc] = [\n",
    "        col for col in df.columns\n",
    "        if all(df[col].isna())\n",
    "    ]\n",
    "\n",
    "for loc, na_columns in na_columns_by_loc.items():\n",
    "    df = data_by_location[loc]\n",
    "    for col in na_columns:\n",
    "        df.pop(col)\n",
    "\n",
    "na_columns_unique = sorted(set(sum(na_columns_by_loc.values(), [])))\n",
    "\n",
    "print(\"Columns which are fully NaN for at least one Location:\", na_columns_unique)\n",
    "\n",
    "pprint.pprint(na_columns_by_loc)\n",
    "\n"
   ]
  },
  {
   "cell_type": "code",
   "execution_count": 9,
   "metadata": {},
   "outputs": [
    {
     "data": {
      "text/html": [
       "<div>\n",
       "<style scoped>\n",
       "    .dataframe tbody tr th:only-of-type {\n",
       "        vertical-align: middle;\n",
       "    }\n",
       "\n",
       "    .dataframe tbody tr th {\n",
       "        vertical-align: top;\n",
       "    }\n",
       "\n",
       "    .dataframe thead th {\n",
       "        text-align: right;\n",
       "    }\n",
       "</style>\n",
       "<table border=\"1\" class=\"dataframe\">\n",
       "  <thead>\n",
       "    <tr style=\"text-align: right;\">\n",
       "      <th></th>\n",
       "      <th>Location</th>\n",
       "      <th>MinTemp</th>\n",
       "      <th>MaxTemp</th>\n",
       "      <th>Rainfall</th>\n",
       "      <th>WindGustDir</th>\n",
       "      <th>WindDir9am</th>\n",
       "      <th>WindDir3pm</th>\n",
       "      <th>WindSpeed9am</th>\n",
       "      <th>WindSpeed3pm</th>\n",
       "      <th>Humidity9am</th>\n",
       "      <th>Humidity3pm</th>\n",
       "      <th>Temp9am</th>\n",
       "      <th>Temp3pm</th>\n",
       "      <th>RainToday</th>\n",
       "      <th>RainTomorrow</th>\n",
       "      <th>Latitude</th>\n",
       "      <th>Longitude</th>\n",
       "      <th>DayOfYear_Sin</th>\n",
       "      <th>DayOfYear_Cos</th>\n",
       "      <th>Year</th>\n",
       "    </tr>\n",
       "  </thead>\n",
       "  <tbody>\n",
       "    <tr>\n",
       "      <th>0</th>\n",
       "      <td>Albury</td>\n",
       "      <td>13.4</td>\n",
       "      <td>22.9</td>\n",
       "      <td>0.6</td>\n",
       "      <td>W</td>\n",
       "      <td>W</td>\n",
       "      <td>WNW</td>\n",
       "      <td>20.0</td>\n",
       "      <td>24.0</td>\n",
       "      <td>71.0</td>\n",
       "      <td>22.0</td>\n",
       "      <td>16.9</td>\n",
       "      <td>21.8</td>\n",
       "      <td>0.0</td>\n",
       "      <td>0.0</td>\n",
       "      <td>36.0737</td>\n",
       "      <td>146.9135</td>\n",
       "      <td>-0.478734</td>\n",
       "      <td>0.877960</td>\n",
       "      <td>2008</td>\n",
       "    </tr>\n",
       "    <tr>\n",
       "      <th>1</th>\n",
       "      <td>Albury</td>\n",
       "      <td>7.4</td>\n",
       "      <td>25.1</td>\n",
       "      <td>0.0</td>\n",
       "      <td>WNW</td>\n",
       "      <td>NNW</td>\n",
       "      <td>WSW</td>\n",
       "      <td>4.0</td>\n",
       "      <td>22.0</td>\n",
       "      <td>44.0</td>\n",
       "      <td>25.0</td>\n",
       "      <td>17.2</td>\n",
       "      <td>24.3</td>\n",
       "      <td>0.0</td>\n",
       "      <td>0.0</td>\n",
       "      <td>36.0737</td>\n",
       "      <td>146.9135</td>\n",
       "      <td>-0.463550</td>\n",
       "      <td>0.886071</td>\n",
       "      <td>2008</td>\n",
       "    </tr>\n",
       "    <tr>\n",
       "      <th>2</th>\n",
       "      <td>Albury</td>\n",
       "      <td>12.9</td>\n",
       "      <td>25.7</td>\n",
       "      <td>0.0</td>\n",
       "      <td>WSW</td>\n",
       "      <td>W</td>\n",
       "      <td>WSW</td>\n",
       "      <td>19.0</td>\n",
       "      <td>26.0</td>\n",
       "      <td>38.0</td>\n",
       "      <td>30.0</td>\n",
       "      <td>21.0</td>\n",
       "      <td>23.2</td>\n",
       "      <td>0.0</td>\n",
       "      <td>0.0</td>\n",
       "      <td>36.0737</td>\n",
       "      <td>146.9135</td>\n",
       "      <td>-0.448229</td>\n",
       "      <td>0.893919</td>\n",
       "      <td>2008</td>\n",
       "    </tr>\n",
       "    <tr>\n",
       "      <th>3</th>\n",
       "      <td>Albury</td>\n",
       "      <td>9.2</td>\n",
       "      <td>28.0</td>\n",
       "      <td>0.0</td>\n",
       "      <td>NE</td>\n",
       "      <td>SE</td>\n",
       "      <td>E</td>\n",
       "      <td>11.0</td>\n",
       "      <td>9.0</td>\n",
       "      <td>45.0</td>\n",
       "      <td>16.0</td>\n",
       "      <td>18.1</td>\n",
       "      <td>26.5</td>\n",
       "      <td>0.0</td>\n",
       "      <td>0.0</td>\n",
       "      <td>36.0737</td>\n",
       "      <td>146.9135</td>\n",
       "      <td>-0.432776</td>\n",
       "      <td>0.901502</td>\n",
       "      <td>2008</td>\n",
       "    </tr>\n",
       "    <tr>\n",
       "      <th>4</th>\n",
       "      <td>Albury</td>\n",
       "      <td>17.5</td>\n",
       "      <td>32.3</td>\n",
       "      <td>1.0</td>\n",
       "      <td>W</td>\n",
       "      <td>ENE</td>\n",
       "      <td>NW</td>\n",
       "      <td>7.0</td>\n",
       "      <td>20.0</td>\n",
       "      <td>82.0</td>\n",
       "      <td>33.0</td>\n",
       "      <td>17.8</td>\n",
       "      <td>29.7</td>\n",
       "      <td>0.0</td>\n",
       "      <td>0.0</td>\n",
       "      <td>36.0737</td>\n",
       "      <td>146.9135</td>\n",
       "      <td>-0.417194</td>\n",
       "      <td>0.908818</td>\n",
       "      <td>2008</td>\n",
       "    </tr>\n",
       "    <tr>\n",
       "      <th>...</th>\n",
       "      <td>...</td>\n",
       "      <td>...</td>\n",
       "      <td>...</td>\n",
       "      <td>...</td>\n",
       "      <td>...</td>\n",
       "      <td>...</td>\n",
       "      <td>...</td>\n",
       "      <td>...</td>\n",
       "      <td>...</td>\n",
       "      <td>...</td>\n",
       "      <td>...</td>\n",
       "      <td>...</td>\n",
       "      <td>...</td>\n",
       "      <td>...</td>\n",
       "      <td>...</td>\n",
       "      <td>...</td>\n",
       "      <td>...</td>\n",
       "      <td>...</td>\n",
       "      <td>...</td>\n",
       "      <td>...</td>\n",
       "    </tr>\n",
       "    <tr>\n",
       "      <th>145454</th>\n",
       "      <td>Uluru</td>\n",
       "      <td>3.5</td>\n",
       "      <td>21.8</td>\n",
       "      <td>0.0</td>\n",
       "      <td>E</td>\n",
       "      <td>ESE</td>\n",
       "      <td>E</td>\n",
       "      <td>15.0</td>\n",
       "      <td>13.0</td>\n",
       "      <td>59.0</td>\n",
       "      <td>27.0</td>\n",
       "      <td>9.4</td>\n",
       "      <td>20.9</td>\n",
       "      <td>0.0</td>\n",
       "      <td>0.0</td>\n",
       "      <td>25.3444</td>\n",
       "      <td>131.0369</td>\n",
       "      <td>0.196673</td>\n",
       "      <td>-0.980469</td>\n",
       "      <td>2017</td>\n",
       "    </tr>\n",
       "    <tr>\n",
       "      <th>145455</th>\n",
       "      <td>Uluru</td>\n",
       "      <td>2.8</td>\n",
       "      <td>23.4</td>\n",
       "      <td>0.0</td>\n",
       "      <td>E</td>\n",
       "      <td>SE</td>\n",
       "      <td>ENE</td>\n",
       "      <td>13.0</td>\n",
       "      <td>11.0</td>\n",
       "      <td>51.0</td>\n",
       "      <td>24.0</td>\n",
       "      <td>10.1</td>\n",
       "      <td>22.4</td>\n",
       "      <td>0.0</td>\n",
       "      <td>0.0</td>\n",
       "      <td>25.3444</td>\n",
       "      <td>131.0369</td>\n",
       "      <td>0.179767</td>\n",
       "      <td>-0.983709</td>\n",
       "      <td>2017</td>\n",
       "    </tr>\n",
       "    <tr>\n",
       "      <th>145456</th>\n",
       "      <td>Uluru</td>\n",
       "      <td>3.6</td>\n",
       "      <td>25.3</td>\n",
       "      <td>0.0</td>\n",
       "      <td>NNW</td>\n",
       "      <td>SE</td>\n",
       "      <td>N</td>\n",
       "      <td>13.0</td>\n",
       "      <td>9.0</td>\n",
       "      <td>56.0</td>\n",
       "      <td>21.0</td>\n",
       "      <td>10.9</td>\n",
       "      <td>24.5</td>\n",
       "      <td>0.0</td>\n",
       "      <td>0.0</td>\n",
       "      <td>25.3444</td>\n",
       "      <td>131.0369</td>\n",
       "      <td>0.162807</td>\n",
       "      <td>-0.986658</td>\n",
       "      <td>2017</td>\n",
       "    </tr>\n",
       "    <tr>\n",
       "      <th>145457</th>\n",
       "      <td>Uluru</td>\n",
       "      <td>5.4</td>\n",
       "      <td>26.9</td>\n",
       "      <td>0.0</td>\n",
       "      <td>N</td>\n",
       "      <td>SE</td>\n",
       "      <td>WNW</td>\n",
       "      <td>9.0</td>\n",
       "      <td>9.0</td>\n",
       "      <td>53.0</td>\n",
       "      <td>24.0</td>\n",
       "      <td>12.5</td>\n",
       "      <td>26.1</td>\n",
       "      <td>0.0</td>\n",
       "      <td>0.0</td>\n",
       "      <td>25.3444</td>\n",
       "      <td>131.0369</td>\n",
       "      <td>0.145799</td>\n",
       "      <td>-0.989314</td>\n",
       "      <td>2017</td>\n",
       "    </tr>\n",
       "    <tr>\n",
       "      <th>145458</th>\n",
       "      <td>Uluru</td>\n",
       "      <td>7.8</td>\n",
       "      <td>27.0</td>\n",
       "      <td>0.0</td>\n",
       "      <td>SE</td>\n",
       "      <td>SSE</td>\n",
       "      <td>N</td>\n",
       "      <td>13.0</td>\n",
       "      <td>7.0</td>\n",
       "      <td>51.0</td>\n",
       "      <td>24.0</td>\n",
       "      <td>15.1</td>\n",
       "      <td>26.0</td>\n",
       "      <td>0.0</td>\n",
       "      <td>0.0</td>\n",
       "      <td>25.3444</td>\n",
       "      <td>131.0369</td>\n",
       "      <td>0.128748</td>\n",
       "      <td>-0.991677</td>\n",
       "      <td>2017</td>\n",
       "    </tr>\n",
       "  </tbody>\n",
       "</table>\n",
       "<p>140787 rows × 20 columns</p>\n",
       "</div>"
      ],
      "text/plain": [
       "       Location  MinTemp  MaxTemp  Rainfall WindGustDir WindDir9am WindDir3pm  \\\n",
       "0        Albury     13.4     22.9       0.6           W          W        WNW   \n",
       "1        Albury      7.4     25.1       0.0         WNW        NNW        WSW   \n",
       "2        Albury     12.9     25.7       0.0         WSW          W        WSW   \n",
       "3        Albury      9.2     28.0       0.0          NE         SE          E   \n",
       "4        Albury     17.5     32.3       1.0           W        ENE         NW   \n",
       "...         ...      ...      ...       ...         ...        ...        ...   \n",
       "145454    Uluru      3.5     21.8       0.0           E        ESE          E   \n",
       "145455    Uluru      2.8     23.4       0.0           E         SE        ENE   \n",
       "145456    Uluru      3.6     25.3       0.0         NNW         SE          N   \n",
       "145457    Uluru      5.4     26.9       0.0           N         SE        WNW   \n",
       "145458    Uluru      7.8     27.0       0.0          SE        SSE          N   \n",
       "\n",
       "        WindSpeed9am  WindSpeed3pm  Humidity9am  Humidity3pm  Temp9am  \\\n",
       "0               20.0          24.0         71.0         22.0     16.9   \n",
       "1                4.0          22.0         44.0         25.0     17.2   \n",
       "2               19.0          26.0         38.0         30.0     21.0   \n",
       "3               11.0           9.0         45.0         16.0     18.1   \n",
       "4                7.0          20.0         82.0         33.0     17.8   \n",
       "...              ...           ...          ...          ...      ...   \n",
       "145454          15.0          13.0         59.0         27.0      9.4   \n",
       "145455          13.0          11.0         51.0         24.0     10.1   \n",
       "145456          13.0           9.0         56.0         21.0     10.9   \n",
       "145457           9.0           9.0         53.0         24.0     12.5   \n",
       "145458          13.0           7.0         51.0         24.0     15.1   \n",
       "\n",
       "        Temp3pm  RainToday  RainTomorrow  Latitude  Longitude  DayOfYear_Sin  \\\n",
       "0          21.8        0.0           0.0   36.0737   146.9135      -0.478734   \n",
       "1          24.3        0.0           0.0   36.0737   146.9135      -0.463550   \n",
       "2          23.2        0.0           0.0   36.0737   146.9135      -0.448229   \n",
       "3          26.5        0.0           0.0   36.0737   146.9135      -0.432776   \n",
       "4          29.7        0.0           0.0   36.0737   146.9135      -0.417194   \n",
       "...         ...        ...           ...       ...        ...            ...   \n",
       "145454     20.9        0.0           0.0   25.3444   131.0369       0.196673   \n",
       "145455     22.4        0.0           0.0   25.3444   131.0369       0.179767   \n",
       "145456     24.5        0.0           0.0   25.3444   131.0369       0.162807   \n",
       "145457     26.1        0.0           0.0   25.3444   131.0369       0.145799   \n",
       "145458     26.0        0.0           0.0   25.3444   131.0369       0.128748   \n",
       "\n",
       "        DayOfYear_Cos  Year  \n",
       "0            0.877960  2008  \n",
       "1            0.886071  2008  \n",
       "2            0.893919  2008  \n",
       "3            0.901502  2008  \n",
       "4            0.908818  2008  \n",
       "...               ...   ...  \n",
       "145454      -0.980469  2017  \n",
       "145455      -0.983709  2017  \n",
       "145456      -0.986658  2017  \n",
       "145457      -0.989314  2017  \n",
       "145458      -0.991677  2017  \n",
       "\n",
       "[140787 rows x 20 columns]"
      ]
     },
     "execution_count": 9,
     "metadata": {},
     "output_type": "execute_result"
    }
   ],
   "source": [
    "# How good/bad are models trained without any Optional variables?\n",
    "\n",
    "data_stripped_trad = data_full_trad.copy().drop(na_columns_unique, axis=1)\n",
    "data_stripped_trad"
   ]
  },
  {
   "cell_type": "code",
   "execution_count": 10,
   "metadata": {},
   "outputs": [],
   "source": [
    "# Scale all numerical features to 0-1, Convert Categorical Features to 0s or 1s\n",
    "column_transformer = make_column_transformer(\n",
    "    (MinMaxScaler(),\n",
    "     make_column_selector(dtype_include=np.number)),\n",
    "    (OneHotEncoder(handle_unknown=\"ignore\"),\n",
    "     make_column_selector(dtype_include=object)))\n"
   ]
  },
  {
   "cell_type": "code",
   "execution_count": 11,
   "metadata": {},
   "outputs": [],
   "source": [
    "# break down for train and test\n",
    "X_train_trad_full = data_full_trad[data_full_trad['Year']<2016].copy()\n",
    "y_train_trad_full = X_train_trad_full.pop('RainTomorrow')\n",
    "X_test_trad_full = data_full_trad[data_full_trad['Year']>=2016].copy()\n",
    "y_test_trad_full = X_test_trad_full.pop('RainTomorrow')\n",
    "\n",
    "\n",
    "X_train_trad_stripped = data_stripped_trad[data_full_trad['Year']<2016].copy()\n",
    "y_train_trad_stripped = X_train_trad_stripped.pop('RainTomorrow')\n",
    "X_test_trad_stripped = data_stripped_trad[data_full_trad['Year']>=2016].copy()\n",
    "y_test_trad_stripped = X_test_trad_stripped.pop('RainTomorrow')"
   ]
  },
  {
   "cell_type": "markdown",
   "metadata": {},
   "source": [
    "# Linear Model"
   ]
  },
  {
   "cell_type": "code",
   "execution_count": 12,
   "metadata": {},
   "outputs": [
    {
     "name": "stdout",
     "output_type": "stream",
     "text": [
      "Training time: 11.938345432281494\n"
     ]
    },
    {
     "data": {
      "text/plain": [
       "(<sklearn.metrics._plot.precision_recall_curve.PrecisionRecallDisplay at 0x2c3b8481250>,\n",
       " <sklearn.metrics._plot.roc_curve.RocCurveDisplay at 0x2c3e4939a60>,\n",
       " <sklearn.metrics._plot.confusion_matrix.ConfusionMatrixDisplay at 0x2c3e4978ee0>)"
      ]
     },
     "execution_count": 12,
     "metadata": {},
     "output_type": "execute_result"
    },
    {
     "data": {
      "image/png": "[encoded data removed]",
      "text/plain": [
       "<Figure size 432x288 with 1 Axes>"
      ]
     },
     "metadata": {
      "needs_background": "light"
     },
     "output_type": "display_data"
    },
    {
     "data": {
      "image/png": "[encoded data removed]",
      "text/plain": [
       "<Figure size 432x288 with 1 Axes>"
      ]
     },
     "metadata": {
      "needs_background": "light"
     },
     "output_type": "display_data"
    },
    {
     "data": {
      "image/png": "[encoded data removed]",
      "text/plain": [
       "<Figure size 432x288 with 2 Axes>"
      ]
     },
     "metadata": {
      "needs_background": "light"
     },
     "output_type": "display_data"
    }
   ],
   "source": [
    "# Train Linear Model on Full data (all variables)\n",
    "\n",
    "linear_clf_full = make_pipeline(\n",
    "    column_transformer,\n",
    "    SimpleImputer(), \n",
    "    LinearSVC(\n",
    "        class_weight=\"balanced\",\n",
    "        random_state=RANDOM_SEED,\n",
    "    ),\n",
    ")\n",
    "start = time.time()\n",
    "linear_summary_full = fit_predict(linear_clf_full, X_train_trad_full, y_train_trad_full, X_test_trad_full, y_test_trad_full)\n",
    "training_time = time.time() - start\n",
    "print(f\"Training time: {training_time}\")\n",
    "\n",
    "get_all_displays(linear_summary_full)"
   ]
  },
  {
   "cell_type": "code",
   "execution_count": 13,
   "metadata": {},
   "outputs": [
    {
     "name": "stdout",
     "output_type": "stream",
     "text": [
      "Training time: 9.251675367355347\n"
     ]
    },
    {
     "data": {
      "text/plain": [
       "(<sklearn.metrics._plot.precision_recall_curve.PrecisionRecallDisplay at 0x2c3e4984fd0>,\n",
       " <sklearn.metrics._plot.roc_curve.RocCurveDisplay at 0x2c3e1ee1a30>,\n",
       " <sklearn.metrics._plot.confusion_matrix.ConfusionMatrixDisplay at 0x2c3e4b386d0>)"
      ]
     },
     "execution_count": 13,
     "metadata": {},
     "output_type": "execute_result"
    },
    {
     "data": {
      "image/png": "[encoded data removed]",
      "text/plain": [
       "<Figure size 432x288 with 1 Axes>"
      ]
     },
     "metadata": {
      "needs_background": "light"
     },
     "output_type": "display_data"
    },
    {
     "data": {
      "image/png": "[encoded data removed]",
      "text/plain": [
       "<Figure size 432x288 with 1 Axes>"
      ]
     },
     "metadata": {
      "needs_background": "light"
     },
     "output_type": "display_data"
    },
    {
     "data": {
      "image/png": "[encoded data removed]",
      "text/plain": [
       "<Figure size 432x288 with 2 Axes>"
      ]
     },
     "metadata": {
      "needs_background": "light"
     },
     "output_type": "display_data"
    }
   ],
   "source": [
    "# Train Linear Model on Core/Stripped data (no optional variables)\n",
    "\n",
    "\n",
    "linear_clf_stripped = make_pipeline(\n",
    "    column_transformer,\n",
    "    SimpleImputer(), \n",
    "    LinearSVC(\n",
    "        class_weight=\"balanced\",\n",
    "        random_state=RANDOM_SEED,\n",
    "    ),\n",
    ")\n",
    "start = time.time()\n",
    "linear_summary_stripped = fit_predict(linear_clf_stripped, X_train_trad_stripped, y_train_trad_stripped, X_test_trad_stripped, y_test_trad_stripped)\n",
    "training_time = time.time() - start\n",
    "print(f\"Training time: {training_time}\")\n",
    "#linear_summary\n",
    "\n",
    "get_all_displays(linear_summary_stripped)"
   ]
  },
  {
   "cell_type": "markdown",
   "metadata": {},
   "source": [
    "# Ada Boost Model"
   ]
  },
  {
   "cell_type": "code",
   "execution_count": 14,
   "metadata": {},
   "outputs": [
    {
     "data": {
      "text/plain": [
       "(<sklearn.metrics._plot.precision_recall_curve.PrecisionRecallDisplay at 0x2c3e4bf0a00>,\n",
       " <sklearn.metrics._plot.roc_curve.RocCurveDisplay at 0x2c3e4c788b0>,\n",
       " <sklearn.metrics._plot.confusion_matrix.ConfusionMatrixDisplay at 0x2c3e4cb5130>)"
      ]
     },
     "execution_count": 14,
     "metadata": {},
     "output_type": "execute_result"
    },
    {
     "data": {
      "image/png": "[encoded data removed]",
      "text/plain": [
       "<Figure size 432x288 with 1 Axes>"
      ]
     },
     "metadata": {
      "needs_background": "light"
     },
     "output_type": "display_data"
    },
    {
     "data": {
      "image/png": "[encoded data removed]",
      "text/plain": [
       "<Figure size 432x288 with 1 Axes>"
      ]
     },
     "metadata": {
      "needs_background": "light"
     },
     "output_type": "display_data"
    },
    {
     "data": {
      "image/png": "[encoded data removed]",
      "text/plain": [
       "<Figure size 432x288 with 2 Axes>"
      ]
     },
     "metadata": {
      "needs_background": "light"
     },
     "output_type": "display_data"
    }
   ],
   "source": [
    "# Train Tree based Model on Full data (all variables)\n",
    "\n",
    "\n",
    "ada_clf_full = make_pipeline(column_transformer,\n",
    "                    SimpleImputer(), \n",
    "                    AdaBoostClassifier(n_estimators=200, base_estimator=DecisionTreeClassifier(max_depth=1, class_weight=\"balanced\"), random_state=RANDOM_SEED)\n",
    "                      )\n",
    "\n",
    "ada_summary_full = fit_predict(ada_clf_full, X_train_trad_full, y_train_trad_full, X_test_trad_full, y_test_trad_full)\n",
    "\n",
    "get_all_displays(ada_summary_full)"
   ]
  },
  {
   "cell_type": "code",
   "execution_count": 15,
   "metadata": {
    "scrolled": true
   },
   "outputs": [
    {
     "data": {
      "text/plain": [
       "(<sklearn.metrics._plot.precision_recall_curve.PrecisionRecallDisplay at 0x2c3e4d72f10>,\n",
       " <sklearn.metrics._plot.roc_curve.RocCurveDisplay at 0x2c3e75dec40>,\n",
       " <sklearn.metrics._plot.confusion_matrix.ConfusionMatrixDisplay at 0x2c3e761c490>)"
      ]
     },
     "execution_count": 15,
     "metadata": {},
     "output_type": "execute_result"
    },
    {
     "data": {
      "image/png": "[encoded data removed]",
      "text/plain": [
       "<Figure size 432x288 with 1 Axes>"
      ]
     },
     "metadata": {
      "needs_background": "light"
     },
     "output_type": "display_data"
    },
    {
     "data": {
      "image/png": "[encoded data removed]",
      "text/plain": [
       "<Figure size 432x288 with 1 Axes>"
      ]
     },
     "metadata": {
      "needs_background": "light"
     },
     "output_type": "display_data"
    },
    {
     "data": {
      "image/png": "[encoded data removed]",
      "text/plain": [
       "<Figure size 432x288 with 2 Axes>"
      ]
     },
     "metadata": {
      "needs_background": "light"
     },
     "output_type": "display_data"
    }
   ],
   "source": [
    "# Train Tree based Model on Core/Stripped data (no optional variables)\n",
    "\n",
    "\n",
    "ada_clf_stripped = make_pipeline(column_transformer,\n",
    "                    SimpleImputer(), \n",
    "                    AdaBoostClassifier(n_estimators=200, base_estimator=DecisionTreeClassifier(max_depth=1, class_weight=\"balanced\"), random_state=RANDOM_SEED)\n",
    "                      )\n",
    "\n",
    "ada_summary_stripped = fit_predict(ada_clf_stripped, X_train_trad_stripped, y_train_trad_stripped, X_test_trad_stripped, y_test_trad_stripped)\n",
    "\n",
    "get_all_displays(ada_summary_stripped)"
   ]
  },
  {
   "cell_type": "markdown",
   "metadata": {},
   "source": [
    "## Interim Result\n",
    "\n",
    "(Some of) the Optional metrics appear to be important. \n",
    "* Average Precision consistently drops by ~.05 when these columns are removed, for a variety of models\n",
    "* AUC_ROC consistently drops by ~.03 when these columns are removed, for a variety of models\n",
    "\n",
    "We need to drill down to specific locations to figure out which missing columns are actually problematic..."
   ]
  },
  {
   "cell_type": "markdown",
   "metadata": {},
   "source": [
    "# Time Series (Location Specific) Models"
   ]
  },
  {
   "cell_type": "code",
   "execution_count": 16,
   "metadata": {},
   "outputs": [],
   "source": [
    "# Create Test/Train data for each location\n",
    "\n",
    "y_by_location, X_by_location = {}, {}\n",
    "\n",
    "for loc, df in data_by_location.items():\n",
    "    X_by_location[loc] = df.copy()\n",
    "    y_by_location[loc] = X_by_location[loc].pop(\"RainTomorrow\")\n",
    "    X_by_location[loc].pop(\"Location\")\n",
    "    X_by_location[loc].pop(\"Latitude\") # Constant for a single location\n",
    "    X_by_location[loc].pop(\"Longitude\") # Constant for a single location\n",
    "\n",
    "X_train_by_loc, X_test_by_loc, y_train_by_loc, y_test_by_loc = {}, {}, {}, {}\n",
    "for loc in data_by_location.keys():\n",
    "    X_train_by_loc[loc], X_test_by_loc[loc], y_train_by_loc[loc], y_test_by_loc[loc] = temporal_train_test_split(X_by_location[loc], y_by_location[loc], train_size=.85)"
   ]
  },
  {
   "cell_type": "code",
   "execution_count": 17,
   "metadata": {},
   "outputs": [],
   "source": [
    "# Same transform steps as Linear/Tree models, except \"from_2d_array_to_nested\" is necessary to format it for sktime models\n",
    "\n",
    "transform_pipeline_by_loc = {\n",
    "    loc: make_pipeline(\n",
    "        make_column_transformer(\n",
    "            (MinMaxScaler(),\n",
    "             make_column_selector(dtype_include=np.number)),\n",
    "            (OneHotEncoder(handle_unknown=\"ignore\"),\n",
    "             make_column_selector(dtype_include=object)), sparse_threshold=0),\n",
    "        KNNImputer(),\n",
    "        FunctionTransformer(from_2d_array_to_nested),\n",
    "    )\n",
    "    for loc in X_train_by_loc.keys()\n",
    "}"
   ]
  },
  {
   "cell_type": "code",
   "execution_count": 18,
   "metadata": {},
   "outputs": [],
   "source": [
    "X_train_transformed_by_loc = {\n",
    "    loc: transform_pipeline.fit_transform(X_train_by_loc[loc])\n",
    "    for loc, transform_pipeline in transform_pipeline_by_loc.items()\n",
    "}\n",
    "\n",
    "X_test_transformed_by_loc = {\n",
    "    loc: transform_pipeline.transform(X_test_by_loc[loc])\n",
    "    for loc, transform_pipeline in transform_pipeline_by_loc.items()\n",
    "}"
   ]
  },
  {
   "cell_type": "code",
   "execution_count": 19,
   "metadata": {},
   "outputs": [],
   "source": [
    "for loc, X_train_transformed in X_train_transformed_by_loc.items():\n",
    "    X_train_transformed.index = X_train_by_loc[loc].index\n",
    "    \n",
    "for loc, X_test_transformed in X_test_transformed_by_loc.items():\n",
    "    X_test_transformed.index = X_test_by_loc[loc].index"
   ]
  },
  {
   "cell_type": "code",
   "execution_count": 54,
   "metadata": {},
   "outputs": [
    {
     "name": "stdout",
     "output_type": "stream",
     "text": [
      "Training took 222.82181358337402 seconds\n"
     ]
    }
   ],
   "source": [
    "# Train for each location\n",
    "# Mini Rocket is supposed to be very good, but also the only time series model that finishes in reasonable time\n",
    "\n",
    "start = time.time()\n",
    "\n",
    "inference_pipeline_by_loc = {\n",
    "    loc: make_pipeline(\n",
    "        MiniRocket(random_state=RANDOM_SEED), \n",
    "        RidgeClassifierCV(alphas=np.logspace(-3, 3, 10), normalize=True)\n",
    "    )\n",
    "    for loc in X_train_transformed_by_loc.keys()\n",
    "}\n",
    "\n",
    "summary_by_loc = {\n",
    "    loc: fit_predict(inference_pipeline, X_train_transformed_by_loc[loc], y_train_by_loc[loc], X_test_transformed_by_loc[loc], y_test_by_loc[loc])\n",
    "    for loc, inference_pipeline in inference_pipeline_by_loc.items()\n",
    "}\n",
    "    \n",
    "training_time = time.time() - start9\n",
    "print(f\"Training took {training_time} seconds\")"
   ]
  },
  {
   "cell_type": "code",
   "execution_count": 55,
   "metadata": {},
   "outputs": [
    {
     "name": "stdout",
     "output_type": "stream",
     "text": [
      "              precision    recall  f1-score   support\n",
      "\n",
      "         0.0       0.86      0.94      0.90     16148\n",
      "         1.0       0.74      0.52      0.61      4990\n",
      "\n",
      "    accuracy                           0.84     21138\n",
      "   macro avg       0.80      0.73      0.75     21138\n",
      "weighted avg       0.83      0.84      0.83     21138\n",
      "\n"
     ]
    },
    {
     "data": {
      "image/png": "[encoded data removed]",
      "text/plain": [
       "<Figure size 432x288 with 2 Axes>"
      ]
     },
     "metadata": {
      "needs_background": "light"
     },
     "output_type": "display_data"
    }
   ],
   "source": [
    "combined_y_test = sum((list(v) for v in y_test_by_loc.values()), [])\n",
    "combined_y_pred = sum((list(s[\"y_pred\"]) for s in summary_by_loc.values()), [])\n",
    "combined_confusion = confusion_matrix(combined_y_test, combined_y_pred)\n",
    "\n",
    "disp2 = ConfusionMatrixDisplay(combined_confusion)\n",
    "disp2.plot() \n",
    "print(classification_report(combined_y_test, combined_y_pred))"
   ]
  },
  {
   "cell_type": "code",
   "execution_count": 56,
   "metadata": {},
   "outputs": [
    {
     "data": {
      "text/plain": [
       "<sklearn.metrics._plot.confusion_matrix.ConfusionMatrixDisplay at 0x2c3ffca6ca0>"
      ]
     },
     "execution_count": 56,
     "metadata": {},
     "output_type": "execute_result"
    },
    {
     "data": {
      "image/png": "[encoded data removed]",
      "text/plain": [
       "<Figure size 432x288 with 2 Axes>"
      ]
     },
     "metadata": {
      "needs_background": "light"
     },
     "output_type": "display_data"
    }
   ],
   "source": [
    "# Examine Confusion Matrix if we use different cutoff try to improve True Positive cases\n",
    "# This makes the confusion matrices more comparable to the models trained above\n",
    "\n",
    "combined_y_decision = sum((list(1 if d > -.4 else 0 for d in s[\"decision_function\"]) for s in summary_by_loc.values()), [])\n",
    "\n",
    "combined_confusion = confusion_matrix(combined_y_test, combined_y_decision)\n",
    "\n",
    "disp3 = ConfusionMatrixDisplay(combined_confusion)\n",
    "disp3.plot() "
   ]
  },
  {
   "cell_type": "code",
   "execution_count": 57,
   "metadata": {},
   "outputs": [
    {
     "name": "stdout",
     "output_type": "stream",
     "text": [
      "              precision    recall  f1-score   support\n",
      "\n",
      "         0.0       0.92      0.80      0.86     19885\n",
      "         1.0       0.53      0.76      0.62      5825\n",
      "\n",
      "    accuracy                           0.79     25710\n",
      "   macro avg       0.72      0.78      0.74     25710\n",
      "weighted avg       0.83      0.79      0.80     25710\n",
      "\n",
      "              precision    recall  f1-score   support\n",
      "\n",
      "         0.0       0.92      0.79      0.85     19885\n",
      "         1.0       0.52      0.77      0.62      5825\n",
      "\n",
      "    accuracy                           0.79     25710\n",
      "   macro avg       0.72      0.78      0.74     25710\n",
      "weighted avg       0.83      0.79      0.80     25710\n",
      "\n",
      "              precision    recall  f1-score   support\n",
      "\n",
      "         0.0       0.92      0.82      0.87     16148\n",
      "         1.0       0.57      0.76      0.65      4990\n",
      "\n",
      "    accuracy                           0.81     21138\n",
      "   macro avg       0.74      0.79      0.76     21138\n",
      "weighted avg       0.83      0.81      0.81     21138\n",
      "\n"
     ]
    }
   ],
   "source": [
    "print(classification_report(y_test_trad_full, linear_summary_full[\"y_pred\"]))\n",
    "print(classification_report(y_test_trad_full, ada_summary_full[\"y_pred\"]))\n",
    "print(classification_report(combined_y_test, combined_y_decision))"
   ]
  },
  {
   "cell_type": "markdown",
   "metadata": {},
   "source": [
    "## Note:\n",
    "\n",
    "The Location Specific Time Series Models have combined metrics better than either the LogisticRegression or AdaBoost models in almost every aspect:\n",
    "\n",
    "* Negative class Precision and Recall are equal or better\n",
    "* Positive class Precision is better and recall is close. \n",
    "* F1 scores are better\n",
    "* Macro averages for precision recall and f1 score are all better.\n",
    "* Weighted averages for precision, recall, and f1-score are equal or better than earlier models."
   ]
  },
  {
   "cell_type": "code",
   "execution_count": 66,
   "metadata": {},
   "outputs": [
    {
     "name": "stdout",
     "output_type": "stream",
     "text": [
      "Average Precision by location:\n",
      " count    49.000000\n",
      "mean      0.701341\n",
      "std       0.091339\n",
      "min       0.482133\n",
      "25%       0.650952\n",
      "50%       0.705508\n",
      "75%       0.756792\n",
      "max       0.877215\n",
      "dtype: float64\n",
      "\n",
      "ROC AUC by location:\n",
      " count    49.000000\n",
      "mean      0.862254\n",
      "std       0.041353\n",
      "min       0.705093\n",
      "25%       0.835185\n",
      "50%       0.867109\n",
      "75%       0.885991\n",
      "max       0.944724\n",
      "dtype: float64\n"
     ]
    }
   ],
   "source": [
    "avg_precision_by_loc = {loc: s[\"average_precision_score\"] for loc, s in summary_by_loc.items()}\n",
    "\n",
    "roc_auc_score_by_loc = {loc: s[\"roc_auc_score\"] for loc, s in summary_by_loc.items()}\n",
    "\n",
    "print(\"Average Precision by location:\\n\", pd.Series(avg_precision_by_loc.values()).describe())\n",
    "print(\"\\nROC AUC by location:\\n\", pd.Series(roc_auc_score_by_loc.values()).describe())"
   ]
  },
  {
   "cell_type": "code",
   "execution_count": 67,
   "metadata": {},
   "outputs": [],
   "source": [
    "avg_precision_by_loc_na_columns = {loc: s[\"average_precision_score\"] for loc, s in summary_by_loc.items() if na_columns_by_loc[loc]}\n",
    "roc_auc_score_by_loc_na_columns = {loc: s[\"roc_auc_score\"] for loc, s in summary_by_loc.items() if na_columns_by_loc[loc]}\n",
    "avg_precision_by_loc_no_na_columns = {loc: s[\"average_precision_score\"] for loc, s in summary_by_loc.items() if not na_columns_by_loc[loc]}\n",
    "roc_auc_score_by_loc_no_na_columns = {loc: s[\"roc_auc_score\"] for loc, s in summary_by_loc.items() if not na_columns_by_loc[loc]}"
   ]
  },
  {
   "cell_type": "code",
   "execution_count": 68,
   "metadata": {},
   "outputs": [
    {
     "data": {
      "text/html": [
       "<div>\n",
       "<style scoped>\n",
       "    .dataframe tbody tr th:only-of-type {\n",
       "        vertical-align: middle;\n",
       "    }\n",
       "\n",
       "    .dataframe tbody tr th {\n",
       "        vertical-align: top;\n",
       "    }\n",
       "\n",
       "    .dataframe thead th {\n",
       "        text-align: right;\n",
       "    }\n",
       "</style>\n",
       "<table border=\"1\" class=\"dataframe\">\n",
       "  <thead>\n",
       "    <tr style=\"text-align: right;\">\n",
       "      <th></th>\n",
       "      <th>Avg Precision w/NAs</th>\n",
       "      <th>Avg Precision w/o NAs</th>\n",
       "    </tr>\n",
       "  </thead>\n",
       "  <tbody>\n",
       "    <tr>\n",
       "      <th>count</th>\n",
       "      <td>23.000000</td>\n",
       "      <td>26.000000</td>\n",
       "    </tr>\n",
       "    <tr>\n",
       "      <th>mean</th>\n",
       "      <td>0.717355</td>\n",
       "      <td>0.687174</td>\n",
       "    </tr>\n",
       "    <tr>\n",
       "      <th>std</th>\n",
       "      <td>0.086763</td>\n",
       "      <td>0.094599</td>\n",
       "    </tr>\n",
       "    <tr>\n",
       "      <th>min</th>\n",
       "      <td>0.482133</td>\n",
       "      <td>0.498253</td>\n",
       "    </tr>\n",
       "    <tr>\n",
       "      <th>25%</th>\n",
       "      <td>0.681913</td>\n",
       "      <td>0.628387</td>\n",
       "    </tr>\n",
       "    <tr>\n",
       "      <th>50%</th>\n",
       "      <td>0.714233</td>\n",
       "      <td>0.701733</td>\n",
       "    </tr>\n",
       "    <tr>\n",
       "      <th>75%</th>\n",
       "      <td>0.772585</td>\n",
       "      <td>0.742530</td>\n",
       "    </tr>\n",
       "    <tr>\n",
       "      <th>max</th>\n",
       "      <td>0.877215</td>\n",
       "      <td>0.832416</td>\n",
       "    </tr>\n",
       "  </tbody>\n",
       "</table>\n",
       "</div>"
      ],
      "text/plain": [
       "       Avg Precision w/NAs  Avg Precision w/o NAs\n",
       "count            23.000000              26.000000\n",
       "mean              0.717355               0.687174\n",
       "std               0.086763               0.094599\n",
       "min               0.482133               0.498253\n",
       "25%               0.681913               0.628387\n",
       "50%               0.714233               0.701733\n",
       "75%               0.772585               0.742530\n",
       "max               0.877215               0.832416"
      ]
     },
     "execution_count": 68,
     "metadata": {},
     "output_type": "execute_result"
    }
   ],
   "source": [
    "pd.DataFrame({\n",
    "    \"Avg Precision w/NAs\": pd.Series(avg_precision_by_loc_na_columns.values()).describe(),\n",
    "    \"Avg Precision w/o NAs\": pd.Series(avg_precision_by_loc_no_na_columns.values()).describe(),\n",
    "})"
   ]
  },
  {
   "cell_type": "code",
   "execution_count": 69,
   "metadata": {},
   "outputs": [
    {
     "data": {
      "text/html": [
       "<div>\n",
       "<style scoped>\n",
       "    .dataframe tbody tr th:only-of-type {\n",
       "        vertical-align: middle;\n",
       "    }\n",
       "\n",
       "    .dataframe tbody tr th {\n",
       "        vertical-align: top;\n",
       "    }\n",
       "\n",
       "    .dataframe thead th {\n",
       "        text-align: right;\n",
       "    }\n",
       "</style>\n",
       "<table border=\"1\" class=\"dataframe\">\n",
       "  <thead>\n",
       "    <tr style=\"text-align: right;\">\n",
       "      <th></th>\n",
       "      <th>ROC AUC w/NAs</th>\n",
       "      <th>ROC AUC w/o NAs</th>\n",
       "    </tr>\n",
       "  </thead>\n",
       "  <tbody>\n",
       "    <tr>\n",
       "      <th>count</th>\n",
       "      <td>23.000000</td>\n",
       "      <td>26.000000</td>\n",
       "    </tr>\n",
       "    <tr>\n",
       "      <th>mean</th>\n",
       "      <td>0.863457</td>\n",
       "      <td>0.861190</td>\n",
       "    </tr>\n",
       "    <tr>\n",
       "      <th>std</th>\n",
       "      <td>0.048863</td>\n",
       "      <td>0.034349</td>\n",
       "    </tr>\n",
       "    <tr>\n",
       "      <th>min</th>\n",
       "      <td>0.705093</td>\n",
       "      <td>0.799104</td>\n",
       "    </tr>\n",
       "    <tr>\n",
       "      <th>25%</th>\n",
       "      <td>0.834912</td>\n",
       "      <td>0.836227</td>\n",
       "    </tr>\n",
       "    <tr>\n",
       "      <th>50%</th>\n",
       "      <td>0.867109</td>\n",
       "      <td>0.862786</td>\n",
       "    </tr>\n",
       "    <tr>\n",
       "      <th>75%</th>\n",
       "      <td>0.893077</td>\n",
       "      <td>0.883871</td>\n",
       "    </tr>\n",
       "    <tr>\n",
       "      <th>max</th>\n",
       "      <td>0.944724</td>\n",
       "      <td>0.929656</td>\n",
       "    </tr>\n",
       "  </tbody>\n",
       "</table>\n",
       "</div>"
      ],
      "text/plain": [
       "       ROC AUC w/NAs  ROC AUC w/o NAs\n",
       "count      23.000000        26.000000\n",
       "mean        0.863457         0.861190\n",
       "std         0.048863         0.034349\n",
       "min         0.705093         0.799104\n",
       "25%         0.834912         0.836227\n",
       "50%         0.867109         0.862786\n",
       "75%         0.893077         0.883871\n",
       "max         0.944724         0.929656"
      ]
     },
     "execution_count": 69,
     "metadata": {},
     "output_type": "execute_result"
    }
   ],
   "source": [
    "pd.DataFrame({\n",
    "    \"ROC AUC w/NAs\": pd.Series(roc_auc_score_by_loc_na_columns.values()).describe(),\n",
    "    \"ROC AUC w/o NAs\": pd.Series(roc_auc_score_by_loc_no_na_columns.values()).describe(),\n",
    "})"
   ]
  },
  {
   "cell_type": "markdown",
   "metadata": {},
   "source": [
    "## Surprising Result\n",
    "\n",
    "The Location Specific Time Series models are better for locations which do not record at least one Optional metric:\n",
    "* Mean, min, 25%, 75% and max avg_precision are all better\n",
    "* 50% avg_precision is nearly identical\n",
    "* mean, 25%, 50%, 75%, and max ROC AUC are all better\n",
    "\n",
    "The minimum ROC AUC is much lower however (.70 vs .79).\n",
    "\n",
    "Looking at this outlier gives us a key insight:"
   ]
  },
  {
   "cell_type": "code",
   "execution_count": 70,
   "metadata": {},
   "outputs": [
    {
     "name": "stdout",
     "output_type": "stream",
     "text": [
      "Three worst ROC AUC scores in locations which do not record at least one Optional metric:\n",
      "\n",
      "[(0.7050934862147447,\n",
      "  'Newcastle',\n",
      "  ['Evaporation', 'Sunshine', 'WindGustSpeed', 'Pressure9am', 'Pressure3pm']),\n",
      " (0.8126399095534201, 'Albany', ['WindGustSpeed'])]\n"
     ]
    }
   ],
   "source": [
    "print(\"Three worst ROC AUC scores in locations which do not record at least one Optional metric:\\n\")\n",
    "pprint.pprint(sorted((roc_auc_score, loc, na_columns_by_loc[loc]) for loc, roc_auc_score in roc_auc_score_by_loc.items() if na_columns_by_loc[loc])[:2])"
   ]
  },
  {
   "cell_type": "code",
   "execution_count": 71,
   "metadata": {},
   "outputs": [
    {
     "name": "stdout",
     "output_type": "stream",
     "text": [
      "['Newcastle', 'Albany']\n"
     ]
    }
   ],
   "source": [
    "print([loc for loc, na_columns in na_columns_by_loc.items() if \"WindGustSpeed\" in na_columns])"
   ]
  },
  {
   "cell_type": "markdown",
   "metadata": {},
   "source": [
    "### Key Insight\n",
    "* Newcastle is by far the worst ROC AUC score of any location specific classifier. \n",
    "* Albany is the second worst out of all sites missing a column. It would be <25% in either group of locations\n",
    "* These are the only two sites which do not record the WindGustSpeed Optional metric\n",
    "\n"
   ]
  },
  {
   "cell_type": "code",
   "execution_count": 72,
   "metadata": {},
   "outputs": [
    {
     "name": "stdout",
     "output_type": "stream",
     "text": [
      "Average Precision by location non-Wind NAs:\n",
      " count    21.000000\n",
      "mean      0.728565\n",
      "std       0.073364\n",
      "min       0.605664\n",
      "25%       0.681929\n",
      "50%       0.714233\n",
      "75%       0.772980\n",
      "max       0.877215\n",
      "dtype: float64\n",
      "\n",
      "ROC AUC by location non-Wind NAs:\n",
      " count    21.000000\n",
      "mean      0.873418\n",
      "std       0.033750\n",
      "min       0.823143\n",
      "25%       0.852611\n",
      "50%       0.872085\n",
      "75%       0.894222\n",
      "max       0.944724\n",
      "dtype: float64\n"
     ]
    }
   ],
   "source": [
    "avg_precision_by_loc_na_wind_columns = {loc: s[\"average_precision_score\"] for loc, s in summary_by_loc.items() if na_columns_by_loc[loc] and \"WindGustSpeed\" not in na_columns_by_loc[loc]}\n",
    "\n",
    "roc_auc_score_by_loc_na_wind_columns = {loc: s[\"roc_auc_score\"] for loc, s in summary_by_loc.items() if na_columns_by_loc[loc] and \"WindGustSpeed\" not in na_columns_by_loc[loc]}\n",
    "\n",
    "print(\"Average Precision by location non-Wind NAs:\\n\", pd.Series(avg_precision_by_loc_na_wind_columns.values()).describe())\n",
    "print(\"\\nROC AUC by location non-Wind NAs:\\n\", pd.Series(roc_auc_score_by_loc_na_wind_columns.values()).describe())"
   ]
  },
  {
   "cell_type": "code",
   "execution_count": 73,
   "metadata": {},
   "outputs": [
    {
     "data": {
      "text/html": [
       "<div>\n",
       "<style scoped>\n",
       "    .dataframe tbody tr th:only-of-type {\n",
       "        vertical-align: middle;\n",
       "    }\n",
       "\n",
       "    .dataframe tbody tr th {\n",
       "        vertical-align: top;\n",
       "    }\n",
       "\n",
       "    .dataframe thead th {\n",
       "        text-align: right;\n",
       "    }\n",
       "</style>\n",
       "<table border=\"1\" class=\"dataframe\">\n",
       "  <thead>\n",
       "    <tr style=\"text-align: right;\">\n",
       "      <th></th>\n",
       "      <th>Avg Precision w/NAs  (excluding wind)</th>\n",
       "      <th>Avg Precision w/o NAs</th>\n",
       "    </tr>\n",
       "  </thead>\n",
       "  <tbody>\n",
       "    <tr>\n",
       "      <th>count</th>\n",
       "      <td>21.000000</td>\n",
       "      <td>26.000000</td>\n",
       "    </tr>\n",
       "    <tr>\n",
       "      <th>mean</th>\n",
       "      <td>0.728565</td>\n",
       "      <td>0.687174</td>\n",
       "    </tr>\n",
       "    <tr>\n",
       "      <th>std</th>\n",
       "      <td>0.073364</td>\n",
       "      <td>0.094599</td>\n",
       "    </tr>\n",
       "    <tr>\n",
       "      <th>min</th>\n",
       "      <td>0.605664</td>\n",
       "      <td>0.498253</td>\n",
       "    </tr>\n",
       "    <tr>\n",
       "      <th>25%</th>\n",
       "      <td>0.681929</td>\n",
       "      <td>0.628387</td>\n",
       "    </tr>\n",
       "    <tr>\n",
       "      <th>50%</th>\n",
       "      <td>0.714233</td>\n",
       "      <td>0.701733</td>\n",
       "    </tr>\n",
       "    <tr>\n",
       "      <th>75%</th>\n",
       "      <td>0.772980</td>\n",
       "      <td>0.742530</td>\n",
       "    </tr>\n",
       "    <tr>\n",
       "      <th>max</th>\n",
       "      <td>0.877215</td>\n",
       "      <td>0.832416</td>\n",
       "    </tr>\n",
       "  </tbody>\n",
       "</table>\n",
       "</div>"
      ],
      "text/plain": [
       "       Avg Precision w/NAs  (excluding wind)  Avg Precision w/o NAs\n",
       "count                              21.000000              26.000000\n",
       "mean                                0.728565               0.687174\n",
       "std                                 0.073364               0.094599\n",
       "min                                 0.605664               0.498253\n",
       "25%                                 0.681929               0.628387\n",
       "50%                                 0.714233               0.701733\n",
       "75%                                 0.772980               0.742530\n",
       "max                                 0.877215               0.832416"
      ]
     },
     "execution_count": 73,
     "metadata": {},
     "output_type": "execute_result"
    }
   ],
   "source": [
    "pd.DataFrame({\n",
    "    \"Avg Precision w/NAs  (excluding wind)\": pd.Series(avg_precision_by_loc_na_wind_columns.values()).describe(),\n",
    "    \"Avg Precision w/o NAs\": pd.Series(avg_precision_by_loc_no_na_columns.values()).describe(),\n",
    "})"
   ]
  },
  {
   "cell_type": "code",
   "execution_count": 74,
   "metadata": {},
   "outputs": [
    {
     "data": {
      "text/html": [
       "<div>\n",
       "<style scoped>\n",
       "    .dataframe tbody tr th:only-of-type {\n",
       "        vertical-align: middle;\n",
       "    }\n",
       "\n",
       "    .dataframe tbody tr th {\n",
       "        vertical-align: top;\n",
       "    }\n",
       "\n",
       "    .dataframe thead th {\n",
       "        text-align: right;\n",
       "    }\n",
       "</style>\n",
       "<table border=\"1\" class=\"dataframe\">\n",
       "  <thead>\n",
       "    <tr style=\"text-align: right;\">\n",
       "      <th></th>\n",
       "      <th>ROC AUC w/NAs (excluding wind)</th>\n",
       "      <th>ROC AUC w/o NAs</th>\n",
       "    </tr>\n",
       "  </thead>\n",
       "  <tbody>\n",
       "    <tr>\n",
       "      <th>count</th>\n",
       "      <td>21.000000</td>\n",
       "      <td>26.000000</td>\n",
       "    </tr>\n",
       "    <tr>\n",
       "      <th>mean</th>\n",
       "      <td>0.873418</td>\n",
       "      <td>0.861190</td>\n",
       "    </tr>\n",
       "    <tr>\n",
       "      <th>std</th>\n",
       "      <td>0.033750</td>\n",
       "      <td>0.034349</td>\n",
       "    </tr>\n",
       "    <tr>\n",
       "      <th>min</th>\n",
       "      <td>0.823143</td>\n",
       "      <td>0.799104</td>\n",
       "    </tr>\n",
       "    <tr>\n",
       "      <th>25%</th>\n",
       "      <td>0.852611</td>\n",
       "      <td>0.836227</td>\n",
       "    </tr>\n",
       "    <tr>\n",
       "      <th>50%</th>\n",
       "      <td>0.872085</td>\n",
       "      <td>0.862786</td>\n",
       "    </tr>\n",
       "    <tr>\n",
       "      <th>75%</th>\n",
       "      <td>0.894222</td>\n",
       "      <td>0.883871</td>\n",
       "    </tr>\n",
       "    <tr>\n",
       "      <th>max</th>\n",
       "      <td>0.944724</td>\n",
       "      <td>0.929656</td>\n",
       "    </tr>\n",
       "  </tbody>\n",
       "</table>\n",
       "</div>"
      ],
      "text/plain": [
       "       ROC AUC w/NAs (excluding wind)  ROC AUC w/o NAs\n",
       "count                       21.000000        26.000000\n",
       "mean                         0.873418         0.861190\n",
       "std                          0.033750         0.034349\n",
       "min                          0.823143         0.799104\n",
       "25%                          0.852611         0.836227\n",
       "50%                          0.872085         0.862786\n",
       "75%                          0.894222         0.883871\n",
       "max                          0.944724         0.929656"
      ]
     },
     "execution_count": 74,
     "metadata": {},
     "output_type": "execute_result"
    }
   ],
   "source": [
    "pd.DataFrame({\n",
    "    \"ROC AUC w/NAs (excluding wind)\": pd.Series(roc_auc_score_by_loc_na_wind_columns.values()).describe(),\n",
    "    \"ROC AUC w/o NAs\": pd.Series(roc_auc_score_by_loc_no_na_columns.values()).describe(),\n",
    "})"
   ]
  },
  {
   "cell_type": "code",
   "execution_count": 77,
   "metadata": {},
   "outputs": [
    {
     "name": "stdout",
     "output_type": "stream",
     "text": [
      "['confusion_matrix', 'display_labels', '__module__', '__doc__', '__init__', 'plot', '__dict__', '__weakref__', '__repr__', '__hash__', '__str__', '__getattribute__', '__setattr__', '__delattr__', '__lt__', '__le__', '__eq__', '__ne__', '__gt__', '__ge__', '__new__', '__reduce_ex__', '__reduce__', '__subclasshook__', '__init_subclass__', '__format__', '__sizeof__', '__dir__', '__class__']\n"
     ]
    },
    {
     "data": {
      "text/plain": [
       "Text(0.5, 1.0, 'True vs Predicted Rainfall\\nLocations with Full Metrics')"
      ]
     },
     "execution_count": 77,
     "metadata": {},
     "output_type": "execute_result"
    },
    {
     "data": {
      "image/png": "[encoded data removed]",
      "text/plain": [
       "<Figure size 432x288 with 2 Axes>"
      ]
     },
     "metadata": {
      "needs_background": "light"
     },
     "output_type": "display_data"
    },
    {
     "data": {
      "image/png": "[encoded data removed]",
      "text/plain": [
       "<Figure size 432x288 with 2 Axes>"
      ]
     },
     "metadata": {
      "needs_background": "light"
     },
     "output_type": "display_data"
    }
   ],
   "source": [
    "# Let's look at the Confusion Matrix for predictions in these categories: \"Full\" Locations vs \"Core + Wind\" Locations w/ NAs\n",
    "\n",
    "combined_y_test_wind_nas = sum((list(v) \n",
    "                                for loc, v in y_test_by_loc.items() \n",
    "                                if na_columns_by_loc[loc] and \"WindGustSpeed\" not in na_columns_by_loc[loc]), [])\n",
    "combined_y_pred_wind_nas = sum((list(s[\"y_pred\"]) \n",
    "                                for loc, s in summary_by_loc.items()\n",
    "                                if na_columns_by_loc[loc] and \"WindGustSpeed\" not in na_columns_by_loc[loc]), [])\n",
    "combined_confusion_wind_nas = confusion_matrix(combined_y_test_wind_nas, combined_y_pred_wind_nas, normalize=\"all\")\n",
    "\n",
    "disp_wind_nas = ConfusionMatrixDisplay(combined_confusion_wind_nas, display_labels=[\"No Rain\", \"Rain\"])\n",
    "\n",
    "print(disp_wind_nas.__dir__())\n",
    "plt_wind_nas = disp_wind_nas.plot(values_format=\".3g\") \n",
    "plt_wind_nas.ax_.set_title(\"True vs Predicted Rainfall\\nLocations with at least one missing Metric (Excluding Wind Gust Speed)\")\n",
    "\n",
    "\n",
    "combined_y_test_no_nas = sum((list(v) \n",
    "                                for loc, v in y_test_by_loc.items()\n",
    "                                if not na_columns_by_loc[loc]), [])\n",
    "combined_y_pred_no_nas = sum((list(s[\"y_pred\"]) \n",
    "                              for loc, s in summary_by_loc.items()\n",
    "                              if not na_columns_by_loc[loc]), [])\n",
    "combined_confusion_no_nas = confusion_matrix(combined_y_test_no_nas, combined_y_pred_no_nas, normalize=\"all\")\n",
    "\n",
    "disp_no_nas = ConfusionMatrixDisplay(combined_confusion_no_nas, display_labels=[\"No Rain\", \"Rain\"])\n",
    "plt_no_nas = disp_no_nas.plot(values_format=\".2g\") \n",
    "plt_no_nas.ax_.set_title(\"True vs Predicted Rainfall\\nLocations with Full Metrics\")\n"
   ]
  },
  {
   "cell_type": "markdown",
   "metadata": {},
   "source": [
    "# Final Time Series Results\n",
    "\n",
    "WindGustSpeed is the only Optional metric that seriously improved the Location Specific Time Series Models (or made them worse when it was missing).\n",
    "\n",
    "Rainfall predictions for locations missing one or more of the other metrics actually did *better* than predictions for locations with full Optional metrics (this is a good subject for future investigation).\n",
    "\n",
    "We don't want to assume the Australian government will only ever use Location Specific Time Series models, so we'll check our earlier models. We want to see if \"Core+WindGustSpeed\" models (trained on all Core features + WindGustSpeed) does better than the Core models (trained on Core features with no Optional features) and is close to the \"Full\" models (trained on all Core + Optional features)"
   ]
  },
  {
   "cell_type": "markdown",
   "metadata": {},
   "source": [
    "# Adding Back in WindGustSpeed\n"
   ]
  },
  {
   "cell_type": "code",
   "execution_count": 34,
   "metadata": {},
   "outputs": [],
   "source": [
    "X_train_trad_wind = X_train_trad_stripped.copy()\n",
    "X_test_trad_wind = X_test_trad_stripped.copy()\n",
    "y_train_trad_wind = y_train_trad_stripped.copy()\n",
    "y_test_trad_wind = y_test_trad_stripped.copy()\n",
    "\n",
    "X_train_trad_wind[\"WindGustSpeed\"] = X_train_trad_full[\"WindGustSpeed\"].copy()\n",
    "X_test_trad_wind[\"WindGustSpeed\"] = X_test_trad_full[\"WindGustSpeed\"].copy()"
   ]
  },
  {
   "cell_type": "code",
   "execution_count": 35,
   "metadata": {},
   "outputs": [
    {
     "name": "stdout",
     "output_type": "stream",
     "text": [
      "Training time: 9.203127145767212\n"
     ]
    },
    {
     "data": {
      "text/plain": [
       "(<sklearn.metrics._plot.precision_recall_curve.PrecisionRecallDisplay at 0x2c3e4d528e0>,\n",
       " <sklearn.metrics._plot.roc_curve.RocCurveDisplay at 0x2c3fde4e880>,\n",
       " <sklearn.metrics._plot.confusion_matrix.ConfusionMatrixDisplay at 0x2c3fe260760>)"
      ]
     },
     "execution_count": 35,
     "metadata": {},
     "output_type": "execute_result"
    },
    {
     "data": {
      "image/png": "[encoded data removed]",
      "text/plain": [
       "<Figure size 432x288 with 1 Axes>"
      ]
     },
     "metadata": {
      "needs_background": "light"
     },
     "output_type": "display_data"
    },
    {
     "data": {
      "image/png": "[encoded data removed]",
      "text/plain": [
       "<Figure size 432x288 with 1 Axes>"
      ]
     },
     "metadata": {
      "needs_background": "light"
     },
     "output_type": "display_data"
    },
    {
     "data": {
      "image/png": "[encoded data removed]",
      "text/plain": [
       "<Figure size 432x288 with 2 Axes>"
      ]
     },
     "metadata": {
      "needs_background": "light"
     },
     "output_type": "display_data"
    }
   ],
   "source": [
    "# Train Linear classifier on Core  variables + WindGustSpeed\n",
    "linear_clf_wind = make_pipeline(\n",
    "    column_transformer,\n",
    "    SimpleImputer(), \n",
    "    LinearSVC(\n",
    "        class_weight=\"balanced\",\n",
    "        random_state=RANDOM_SEED,\n",
    "    ),\n",
    ")\n",
    "start = time.time()\n",
    "linear_summary_wind = fit_predict(linear_clf_wind, X_train_trad_wind, y_train_trad_wind, X_test_trad_wind, y_test_trad_wind)\n",
    "training_time = time.time() - start\n",
    "print(f\"Training time: {training_time}\")\n",
    "\n",
    "get_all_displays(linear_summary_wind)"
   ]
  },
  {
   "cell_type": "code",
   "execution_count": 36,
   "metadata": {},
   "outputs": [
    {
     "data": {
      "text/plain": [
       "(<sklearn.metrics._plot.precision_recall_curve.PrecisionRecallDisplay at 0x2c3fe3215b0>,\n",
       " <sklearn.metrics._plot.roc_curve.RocCurveDisplay at 0x2c3fe39b220>,\n",
       " <sklearn.metrics._plot.confusion_matrix.ConfusionMatrixDisplay at 0x2c3fe3c8a30>)"
      ]
     },
     "execution_count": 36,
     "metadata": {},
     "output_type": "execute_result"
    },
    {
     "data": {
      "image/png": "[encoded data removed]",
      "text/plain": [
       "<Figure size 432x288 with 1 Axes>"
      ]
     },
     "metadata": {
      "needs_background": "light"
     },
     "output_type": "display_data"
    },
    {
     "data": {
      "image/png": "[encoded data removed]",
      "text/plain": [
       "<Figure size 432x288 with 1 Axes>"
      ]
     },
     "metadata": {
      "needs_background": "light"
     },
     "output_type": "display_data"
    },
    {
     "data": {
      "image/png": "[encoded data removed]",
      "text/plain": [
       "<Figure size 432x288 with 2 Axes>"
      ]
     },
     "metadata": {
      "needs_background": "light"
     },
     "output_type": "display_data"
    }
   ],
   "source": [
    "# Train Tree Based classifier on Core  variables + WindGustSpeed\n",
    "\n",
    "ada_clf_wind = make_pipeline(column_transformer,\n",
    "                    SimpleImputer(), \n",
    "                    AdaBoostClassifier(n_estimators=200, base_estimator=DecisionTreeClassifier(max_depth=1, class_weight=\"balanced\"), random_state=RANDOM_SEED)\n",
    "                      )\n",
    "\n",
    "ada_summary_wind = fit_predict(ada_clf_wind, X_train_trad_wind, y_train_trad_wind, X_test_trad_wind, y_test_trad_wind)\n",
    "\n",
    "get_all_displays(ada_summary_wind)"
   ]
  },
  {
   "cell_type": "code",
   "execution_count": 37,
   "metadata": {},
   "outputs": [
    {
     "name": "stdout",
     "output_type": "stream",
     "text": [
      "Linear Model:\n"
     ]
    },
    {
     "data": {
      "text/html": [
       "<div>\n",
       "<style scoped>\n",
       "    .dataframe tbody tr th:only-of-type {\n",
       "        vertical-align: middle;\n",
       "    }\n",
       "\n",
       "    .dataframe tbody tr th {\n",
       "        vertical-align: top;\n",
       "    }\n",
       "\n",
       "    .dataframe thead th {\n",
       "        text-align: right;\n",
       "    }\n",
       "</style>\n",
       "<table border=\"1\" class=\"dataframe\">\n",
       "  <thead>\n",
       "    <tr style=\"text-align: right;\">\n",
       "      <th></th>\n",
       "      <th>Core</th>\n",
       "      <th>Core+Wind</th>\n",
       "      <th>Full</th>\n",
       "    </tr>\n",
       "  </thead>\n",
       "  <tbody>\n",
       "    <tr>\n",
       "      <th>ROC_AUC</th>\n",
       "      <td>0.827815</td>\n",
       "      <td>0.844643</td>\n",
       "      <td>0.862450</td>\n",
       "    </tr>\n",
       "    <tr>\n",
       "      <th>Average_Precision</th>\n",
       "      <td>0.630241</td>\n",
       "      <td>0.665506</td>\n",
       "      <td>0.686304</td>\n",
       "    </tr>\n",
       "  </tbody>\n",
       "</table>\n",
       "</div>"
      ],
      "text/plain": [
       "                       Core  Core+Wind      Full\n",
       "ROC_AUC            0.827815   0.844643  0.862450\n",
       "Average_Precision  0.630241   0.665506  0.686304"
      ]
     },
     "execution_count": 37,
     "metadata": {},
     "output_type": "execute_result"
    }
   ],
   "source": [
    "# Compare Linear models using Core, Core + Wind, or Full data\n",
    "\n",
    "\n",
    "print(\"Linear Model:\")\n",
    "pd.DataFrame({\n",
    "    \"Core\": {\n",
    "        \"ROC_AUC\": linear_summary_stripped[\"roc_auc_score\"], \n",
    "        \"Average_Precision\": linear_summary_stripped[\"average_precision_score\"]},\n",
    "    \"Core+Wind\": {\n",
    "        \"ROC_AUC\": linear_summary_wind[\"roc_auc_score\"], \n",
    "        \"Average_Precision\": linear_summary_wind[\"average_precision_score\"]},\n",
    "    \"Full\": {\n",
    "        \"ROC_AUC\": linear_summary_full[\"roc_auc_score\"], \n",
    "        \"Average_Precision\": linear_summary_full[\"average_precision_score\"]},\n",
    "        },\n",
    ")"
   ]
  },
  {
   "cell_type": "code",
   "execution_count": 38,
   "metadata": {},
   "outputs": [
    {
     "name": "stdout",
     "output_type": "stream",
     "text": [
      "AdaBoost Model:\n"
     ]
    },
    {
     "data": {
      "text/html": [
       "<div>\n",
       "<style scoped>\n",
       "    .dataframe tbody tr th:only-of-type {\n",
       "        vertical-align: middle;\n",
       "    }\n",
       "\n",
       "    .dataframe tbody tr th {\n",
       "        vertical-align: top;\n",
       "    }\n",
       "\n",
       "    .dataframe thead th {\n",
       "        text-align: right;\n",
       "    }\n",
       "</style>\n",
       "<table border=\"1\" class=\"dataframe\">\n",
       "  <thead>\n",
       "    <tr style=\"text-align: right;\">\n",
       "      <th></th>\n",
       "      <th>Core</th>\n",
       "      <th>Core+Wind</th>\n",
       "      <th>Full</th>\n",
       "    </tr>\n",
       "  </thead>\n",
       "  <tbody>\n",
       "    <tr>\n",
       "      <th>ROC_AUC</th>\n",
       "      <td>0.830956</td>\n",
       "      <td>0.847496</td>\n",
       "      <td>0.862973</td>\n",
       "    </tr>\n",
       "    <tr>\n",
       "      <th>Average_Precision</th>\n",
       "      <td>0.645311</td>\n",
       "      <td>0.677190</td>\n",
       "      <td>0.693929</td>\n",
       "    </tr>\n",
       "  </tbody>\n",
       "</table>\n",
       "</div>"
      ],
      "text/plain": [
       "                       Core  Core+Wind      Full\n",
       "ROC_AUC            0.830956   0.847496  0.862973\n",
       "Average_Precision  0.645311   0.677190  0.693929"
      ]
     },
     "execution_count": 38,
     "metadata": {},
     "output_type": "execute_result"
    }
   ],
   "source": [
    "# Compare Tree based models using Core, Core + Wind, or Full data\n",
    "\n",
    "\n",
    "print(\"AdaBoost Model:\")\n",
    "pd.DataFrame({\n",
    "    \"Core\": {\n",
    "        \"ROC_AUC\": ada_summary_stripped[\"roc_auc_score\"], \n",
    "        \"Average_Precision\": ada_summary_stripped[\"average_precision_score\"]},\n",
    "    \"Core+Wind\": {\n",
    "        \"ROC_AUC\": ada_summary_wind[\"roc_auc_score\"], \n",
    "        \"Average_Precision\": ada_summary_wind[\"average_precision_score\"]},\n",
    "    \"Full\": {\n",
    "        \"ROC_AUC\": ada_summary_full[\"roc_auc_score\"], \n",
    "        \"Average_Precision\": ada_summary_full[\"average_precision_score\"]},\n",
    "        },\n",
    ")"
   ]
  },
  {
   "cell_type": "markdown",
   "metadata": {},
   "source": [
    "# Final Final Result\n",
    "\n",
    "The Linear model improves from .63 to .67"
   ]
  }
 ],
 "metadata": {
  "kernelspec": {
   "display_name": "Python 3",
   "language": "python",
   "name": "python3"
  },
  "language_info": {
   "codemirror_mode": {
    "name": "ipython",
    "version": 3
   },
   "file_extension": ".py",
   "mimetype": "text/x-python",
   "name": "python",
   "nbconvert_exporter": "python",
   "pygments_lexer": "ipython3",
   "version": "3.8.3"
  }
 },
 "nbformat": 4,
 "nbformat_minor": 4
}
